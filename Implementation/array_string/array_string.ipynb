{
 "cells": [
  {
   "cell_type": "markdown",
   "metadata": {},
   "source": [
    "## Sum of Opposite Pair\n",
    "\n",
    "You are given an array of n integers, where n ranges from 2 to 200, inclusive. The elements in the array range from -200 to 200, inclusive. Your task is to return an array in which each element is the sum of a pair composed of an element and its 'opposite' element.\n",
    "\n",
    "By 'opposite', we mean that in an array of n elements, the first and last elements are paired, the second and second-to-last elements are paired, and so on. If the array is of odd length, the middle element pairs with itself.\n",
    "\n",
    "The function should handle both positive and negative integers and be capable of dealing with an odd number of elements in the list.\n",
    "\n",
    "For example, given an input array `[1, 2, 3, 4, 5]`, your function should return `[6, 6, 6]`. This is because the first element `1` plus the last element `5` equals `6`, the second element `2` plus the second-to-last element `4` equals `6`, and the middle element `3` plus itself equals `6`."
   ]
  },
  {
   "cell_type": "code",
   "execution_count": null,
   "metadata": {},
   "outputs": [],
   "source": [
    "import math\n",
    "\n",
    "\n",
    "def solution(numbers):\n",
    "    result = []\n",
    "    length = len(numbers)\n",
    "    # calculate the half length, rounding up for odd lengths\n",
    "    half = (length + 1) // 2\n",
    "    for i in range(half):\n",
    "        opposite = length - i - 1\n",
    "        result.append(numbers[i] + numbers[opposite])\n",
    "        \n",
    "    return result"
   ]
  },
  {
   "cell_type": "markdown",
   "metadata": {},
   "source": [
    "## Sum of Even Integers\n",
    "\n",
    "Given an integer, `n`, we need to calculate and return the sum of its even digits — and here's the clincher — without converting `n` into a string. For instance, if `n` equals `4625`, the output should be `12` because the sum of the even digits `4`, `6`, and `2` equals **`12`**.\n",
    "\n",
    "Keep in mind that n will always be a positive integer between 1 and 10<sup>8</sup>. Ready to give it a shot? Great! Let's get started!"
   ]
  },
  {
   "cell_type": "code",
   "execution_count": null,
   "metadata": {},
   "outputs": [],
   "source": [
    "def solution(n):\n",
    "    digit_sum = 0\n",
    "    while n > 0:\n",
    "        digit = n % 10  # extract the last digit\n",
    "        if digit % 2 == 0:  # Check if the digit is even\n",
    "            digit_sum += digit\n",
    "        n = n // 10  # Remove the last digit\n",
    "    return digit_sum"
   ]
  },
  {
   "cell_type": "markdown",
   "metadata": {},
   "source": [
    "## Sum of Odd Integers\n",
    "\n",
    "You are given an integer `n` where n ranges from `1` to `10`<sup>`8`</sup>, inclusive. Your task is to write a function that calculates and returns the product of the odd digits of n, without converting n into a string.\n",
    "\n",
    "For example, if n equals `43172`, the output should be `21`, because the product of the odd digits 3, 1, and 7 is **`21`**. Please note that if `n` has no odd digits, your function should return 0.\n",
    "\n",
    "You are expected to solve this task by using a `while` loop. **Good luck!**"
   ]
  },
  {
   "cell_type": "code",
   "execution_count": null,
   "metadata": {},
   "outputs": [],
   "source": [
    "def solution(n):\n",
    "    odd_product = 1\n",
    "    flag = False\n",
    "    while n > 0:\n",
    "        odd_digit = n % 10\n",
    "        if odd_digit % 2 != 0:\n",
    "            flag = True\n",
    "            odd_product *= odd_digit\n",
    "        \n",
    "        n = n // 10\n",
    "            \n",
    "    return odd_product if flag else odd_product - 1"
   ]
  },
  {
   "cell_type": "markdown",
   "metadata": {},
   "source": [
    "## Reversing Integer Numbers\n",
    "\n",
    "Your task is to construct a function that accepts an integer n and returns the integer with the same digits as n, but in reverse order. You should implement your solution using a while loop.\n",
    "\n",
    "For instance, if the input is `12345`, the output should be `54321`. Keep in mind that `n` will always be a positive integer between 1 and 10<sup>8</sup>\n",
    "\n",
    "Do not use built-in functions that convert the integer to another data type, such as a string, to reverse it. Solve the problem purely using mathematical operations and loop constructs.\n",
    "\n",
    "Note that when the result has leading zeros, you should consider only the integer value (e.g., `1230` becomes `321` after the operation)."
   ]
  },
  {
   "cell_type": "code",
   "execution_count": null,
   "metadata": {},
   "outputs": [],
   "source": [
    "def solution(n):\n",
    "    # TODO: implement the solution here\n",
    "    reverse = 0\n",
    "    while n > 0:\n",
    "        each_digit = n % 10\n",
    "        reverse = (reverse * 10) + each_digit\n",
    "        n = n // 10\n",
    "    return reverse"
   ]
  },
  {
   "cell_type": "markdown",
   "metadata": {},
   "source": [
    "## Duplicate Every Digit\n",
    "\n",
    "Your task is to implement a function that duplicates every digit in a given non-negative integer number, `n`. For example, if `n` equals `1234`, the function should return `11223344`.\n",
    "\n",
    "To prevent possible integer overflow, it is guaranteed that n will be a non-negative integer that does not exceed 1x10<sup>8</sup>. Solve this task without converting n into a string or performing any other type of casting. Your job is to work strictly with integer operations.\n",
    "\n",
    "**Keynote**:\n",
    "Focus on the essence of the problem, which is processing each digit of the number independently while maintaining the digit order. There is no need to look for mathematical patterns or clever simplifications; plain and straightforward processing will suffice. Utilize the toolbox of basic programming skills: loops, conditions, and mathematical operations. Good luck!"
   ]
  },
  {
   "cell_type": "code",
   "execution_count": null,
   "metadata": {},
   "outputs": [],
   "source": [
    "def solution(n):\n",
    "    duplicates = 0\n",
    "    temp = 0\n",
    "    res = 0\n",
    "    while n > 0:\n",
    "        digit = n % 10\n",
    "        n = n // 10\n",
    "        duplicates = digit * 10 + digit\n",
    "        temp = temp * 100 + duplicates\n",
    "\n",
    "    while temp > 0:\n",
    "        digit = temp % 10\n",
    "        temp = temp // 10\n",
    "        res = res * 10 + digit"
   ]
  }
 ],
 "metadata": {
  "kernelspec": {
   "display_name": "Python 3",
   "language": "python",
   "name": "python3"
  },
  "language_info": {
   "name": "python",
   "version": "3.13.0"
  }
 },
 "nbformat": 4,
 "nbformat_minor": 2
}
