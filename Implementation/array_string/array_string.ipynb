{
 "cells": [
  {
   "cell_type": "markdown",
   "metadata": {},
   "source": [
    "## Sum of Opposite Pair\n",
    "\n",
    "You are given an array of n integers, where n ranges from 2 to 200, inclusive. The elements in the array range from -200 to 200, inclusive. Your task is to return an array in which each element is the sum of a pair composed of an element and its 'opposite' element.\n",
    "\n",
    "By 'opposite', we mean that in an array of n elements, the first and last elements are paired, the second and second-to-last elements are paired, and so on. If the array is of odd length, the middle element pairs with itself.\n",
    "\n",
    "The function should handle both positive and negative integers and be capable of dealing with an odd number of elements in the list.\n",
    "\n",
    "For example, given an input array `[1, 2, 3, 4, 5]`, your function should return `[6, 6, 6]`. This is because the first element `1` plus the last element `5` equals `6`, the second element `2` plus the second-to-last element `4` equals `6`, and the middle element `3` plus itself equals `6`."
   ]
  },
  {
   "cell_type": "code",
   "execution_count": null,
   "metadata": {},
   "outputs": [],
   "source": [
    "import math\n",
    "\n",
    "\n",
    "def solution(numbers):\n",
    "    result = []\n",
    "    length = len(numbers)\n",
    "    # calculate the half length, rounding up for odd lengths\n",
    "    half = (length + 1) // 2\n",
    "    for i in range(half):\n",
    "        opposite = length - i - 1\n",
    "        result.append(numbers[i] + numbers[opposite])\n",
    "        \n",
    "    return result"
   ]
  },
  {
   "cell_type": "markdown",
   "metadata": {},
   "source": [
    "## Sum of Even Integers\n",
    "\n",
    "Given an integer, `n`, we need to calculate and return the sum of its even digits — and here's the clincher — without converting `n` into a string. For instance, if `n` equals `4625`, the output should be `12` because the sum of the even digits `4`, `6`, and `2` equals **`12`**.\n",
    "\n",
    "Keep in mind that n will always be a positive integer between 1 and 10<sup>8</sup>. Ready to give it a shot? Great! Let's get started!"
   ]
  },
  {
   "cell_type": "code",
   "execution_count": null,
   "metadata": {},
   "outputs": [],
   "source": [
    "def solution(n):\n",
    "    digit_sum = 0\n",
    "    while n > 0:\n",
    "        digit = n % 10  # extract the last digit\n",
    "        if digit % 2 == 0:  # Check if the digit is even\n",
    "            digit_sum += digit\n",
    "        n = n // 10  # Remove the last digit\n",
    "    return digit_sum"
   ]
  }
 ],
 "metadata": {
  "kernelspec": {
   "display_name": "Python 3",
   "language": "python",
   "name": "python3"
  },
  "language_info": {
   "name": "python",
   "version": "3.13.0"
  }
 },
 "nbformat": 4,
 "nbformat_minor": 2
}
